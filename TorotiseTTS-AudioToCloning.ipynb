{
 "cells": [
  {
   "cell_type": "code",
   "execution_count": null,
   "metadata": {
    "collapsed": true
   },
   "outputs": [],
   "source": [
    "# the scipy version packaged with colab is not tolerant of misformated WAV files.\n",
    "# install the latest version.\n",
    "!pip3 install -U scipy\n",
    "\n",
    "!git clone https://github.com/jnordberg/tortoise-tts.git\n",
    "%cd tortoise-tts\n",
    "!pip3 install -r requirements.txt\n",
    "!pip3 install transformers==4.19.0 einops==0.5.0 rotary_embedding_torch==0.1.5 unidecode==1.3.5\n",
    "!python3 setup.py install"
   ]
  },
  {
   "cell_type": "code",
   "execution_count": null,
   "outputs": [],
   "source": [
    "import os\n",
    "import streamlit as st\n",
    "import torch\n",
    "import torchaudio\n",
    "from tortoise.api import TextToSpeech\n",
    "from tortoise.utils.audio import load_voice\n",
    "\n",
    "# Set up Streamlit app title and sidebar\n",
    "st.title(\"Custom Voice Text-to-Speech Generator\")\n",
    "st.sidebar.title(\"Upload Custom Voice\")\n",
    "\n",
    "# This will download all the models used by Tortoise from the HuggingFace hub.\n",
    "tts = TextToSpeech()\n",
    "\n",
    "# This is the text that will be spoken.\n",
    "text = \"Thanks for reading this article. I hope you learned something.\"\n",
    "\n",
    "# Pick a \"preset mode\" to determine quality. Options: {\"ultra_fast\", \"fast\" (default), \"standard\", \"high_quality\"}. See docs in api.py\n",
    "preset = \"fast\"\n",
    "\n",
    "# Set your custom voice name\n",
    "CUSTOM_VOICE_NAME = \"martin\"\n",
    "\n",
    "# Check if the custom voice folder exists, create it if not\n",
    "custom_voice_folder = f\"tortoise/voices/{CUSTOM_VOICE_NAME}\"\n",
    "os.makedirs(custom_voice_folder, exist_ok=True)\n",
    "\n",
    "# Streamlit file uploader in the sidebar\n",
    "uploaded_file = st.sidebar.file_uploader(\"Upload a WAV file for custom voice\", type=[\"wav\"])\n",
    "\n",
    "# Load voice samples and conditioning latents\n",
    "voice_samples, conditioning_latents = load_voice(CUSTOM_VOICE_NAME)\n",
    "\n",
    "# If a file is uploaded, save it to the custom voice folder\n",
    "if uploaded_file:\n",
    "    st.sidebar.text(\"Uploading file...\")\n",
    "    file_path = os.path.join(custom_voice_folder, uploaded_file.name)\n",
    "    with open(file_path, \"wb\") as f:\n",
    "        f.write(uploaded_file.read())\n",
    "    st.sidebar.text(\"File uploaded successfully!\")\n",
    "\n",
    "# Generate speech with the custom voice\n",
    "# Generate speech with the custotm voice.\n",
    "voice_samples, conditioning_latents = load_voice(CUSTOM_VOICE_NAME)\n",
    "gen = tts.tts_with_preset(text, voice_samples=voice_samples, conditioning_latents=conditioning_latents,\n",
    "                          preset=preset)\n",
    "torchaudio.save(f'generated-{CUSTOM_VOICE_NAME}.wav', gen.squeeze(0).cpu(), 24000)\n",
    "IPython.display.Audio(f'generated-{CUSTOM_VOICE_NAME}.wav')\n",
    "\n",
    "# Display audio playback in the main app area\n",
    "st.audio(gen.squeeze(0).cpu(), format=\"audio/wav\")\n",
    "\n",
    "# Add a disclaimer about using the custom voice\n",
    "st.sidebar.markdown(\"**Note:** Using a custom voice may require multiple uploaded audio files and proper conditioning for best results.\")\n"
   ],
   "metadata": {
    "collapsed": false,
    "is_executing": true
   }
  }
 ],
 "metadata": {
  "kernelspec": {
   "display_name": "Python 3",
   "language": "python",
   "name": "python3"
  },
  "language_info": {
   "codemirror_mode": {
    "name": "ipython",
    "version": 2
   },
   "file_extension": ".py",
   "mimetype": "text/x-python",
   "name": "python",
   "nbconvert_exporter": "python",
   "pygments_lexer": "ipython2",
   "version": "2.7.6"
  }
 },
 "nbformat": 4,
 "nbformat_minor": 0
}
